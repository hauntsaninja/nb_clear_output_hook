{
 "cells": [
  {
   "cell_type": "code",
   "execution_count": 1,
   "metadata": {
    "colab": {
     "base_uri": "https://localhost:8080/"
    },
    "id": "NJrA2zzjkllG",
    "outputId": "be7695f6-11c0-4fcf-f4d6-252e1e88e44b"
   },
   "outputs": [
    {
     "name": "stdout",
     "output_type": "stream",
     "text": [
      "hi, i am a small output\n"
     ]
    }
   ],
   "source": [
    "# this cell output should be kept\n",
    "\n",
    "print(\"hi, i am a small output\")"
   ]
  },
  {
   "cell_type": "code",
   "execution_count": null,
   "metadata": {
    "colab": {
     "base_uri": "https://localhost:8080/",
     "height": 592
    },
    "id": "HWT_XRS6kns_",
    "outputId": "5a8607e8-4f8e-41c8-88e0-99187d266428"
   },
   "outputs": [],
   "source": [
    "# this cell output should be cleared\n",
    "\n",
    "import matplotlib.pyplot as plt\n",
    "import numpy as np\n",
    "\n",
    "# Create 1000 random data points\n",
    "x = np.random.rand(1000)\n",
    "y = np.random.rand(1000)\n",
    "\n",
    "# Map each data point to a color based on its x and y values\n",
    "colors = np.sqrt(x ** 2 + y ** 2)\n",
    "\n",
    "# Map each data point to a size based on its distance from the origin\n",
    "sizes = colors * 10\n",
    "\n",
    "# Create a scatter plot with the data points, colors, and sizes\n",
    "plt.figure(figsize=(4, 4))\n",
    "plt.scatter(x, y, c=colors, s=sizes, alpha=0.5, cmap=\"hsv\")\n",
    "plt.colorbar() # show color scale\n",
    "plt.show()"
   ]
  },
  {
   "cell_type": "code",
   "execution_count": 3,
   "metadata": {
    "colab": {
     "base_uri": "https://localhost:8080/",
     "height": 83
    },
    "id": "H3ulOP65k8kS",
    "outputId": "2b62b0a9-0527-49c9-8cdf-e175baa38677"
   },
   "outputs": [
    {
     "data": {
      "text/html": [
       "\n",
       "<table>\n",
       "  <tr>\n",
       "    <th>Column 1</th>\n",
       "    <th>Column 2</th>\n",
       "  </tr>\n",
       "  <tr>\n",
       "    <td>Row 1, Cell 1</td>\n",
       "    <td>Row 1, Cell 2</td>\n",
       "  </tr>\n",
       "  <tr>\n",
       "    <td>Row 2, Cell 1</td>\n",
       "    <td>Row 2, Cell 2</td>\n",
       "  </tr>\n",
       "</table>\n"
      ],
      "text/plain": [
       "<IPython.core.display.HTML object>"
      ]
     },
     "execution_count": 3,
     "metadata": {},
     "output_type": "execute_result"
    }
   ],
   "source": [
    "# this cell output should be kept\n",
    "\n",
    "from IPython.display import HTML\n",
    "\n",
    "# Define the HTML code for a table with two rows and two columns\n",
    "table_html = \"\"\"\n",
    "<table>\n",
    "  <tr>\n",
    "    <th>Column 1</th>\n",
    "    <th>Column 2</th>\n",
    "  </tr>\n",
    "  <tr>\n",
    "    <td>Row 1, Cell 1</td>\n",
    "    <td>Row 1, Cell 2</td>\n",
    "  </tr>\n",
    "  <tr>\n",
    "    <td>Row 2, Cell 1</td>\n",
    "    <td>Row 2, Cell 2</td>\n",
    "  </tr>\n",
    "</table>\n",
    "\"\"\"\n",
    "\n",
    "# Display the HTML table\n",
    "HTML(table_html)"
   ]
  },
  {
   "cell_type": "code",
   "execution_count": 4,
   "metadata": {
    "colab": {
     "base_uri": "https://localhost:8080/",
     "height": 67
    },
    "id": "1hRXZeSTlIBW",
    "outputId": "473b29f4-0726-46e6-8089-48b38fdc5558"
   },
   "outputs": [
    {
     "data": {
      "image/png": "[encoded data removed]",
      "text/plain": [
       "<PIL.Image.Image image mode=RGB size=50x50>"
      ]
     },
     "execution_count": 4,
     "metadata": {},
     "output_type": "execute_result"
    }
   ],
   "source": [
    "# this cell output should be kept\n",
    "\n",
    "from PIL import Image, ImageDraw\n",
    "\n",
    "# Create a new image with a white background\n",
    "img = Image.new(\"RGB\", (50, 50), \"white\")\n",
    "draw = ImageDraw.Draw(img)\n",
    "\n",
    "# Draw a black square on the image\n",
    "draw.rectangle((10, 10, 40, 40), fill=\"black\")\n",
    "\n",
    "# Display the image\n",
    "img"
   ]
  },
  {
   "cell_type": "code",
   "execution_count": null,
   "metadata": {
    "colab": {
     "base_uri": "https://localhost:8080/"
    },
    "id": "ikirupUIlQyB",
    "outputId": "218770ae-4cc8-495b-d855-908e2c7c7b30"
   },
   "outputs": [],
   "source": [
    "# this cell output should be cleared\n",
    "\n",
    "import random\n",
    "import string\n",
    "\n",
    "# Define a list of all possible characters (uppercase and lowercase letters, digits, punctuation)\n",
    "chars = string.ascii_letters + string.digits + string.punctuation\n",
    "\n",
    "# Generate a random string with 2000 characters\n",
    "text = \"\".join(random.Random(0).choices(chars, k=2000))\n",
    "\n",
    "# Print the string\n",
    "print(text)"
   ]
  },
  {
   "cell_type": "code",
   "execution_count": null,
   "metadata": {},
   "outputs": [],
   "source": []
  }
 ],
 "metadata": {
  "colab": {
   "provenance": []
  },
  "kernelspec": {
   "display_name": "Python 3 (ipykernel)",
   "language": "python",
   "name": "python3"
  },
  "language_info": {
   "codemirror_mode": {
    "name": "ipython",
    "version": 3
   },
   "file_extension": ".py",
   "mimetype": "text/x-python",
   "name": "python",
   "nbconvert_exporter": "python",
   "pygments_lexer": "ipython3",
   "version": "3.10.6"
  }
 },
 "nbformat": 4,
 "nbformat_minor": 1
}
